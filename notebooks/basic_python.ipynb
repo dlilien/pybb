{
 "cells": [
  {
   "cell_type": "markdown",
   "metadata": {},
   "source": [
    "Hello World\n",
    "===="
   ]
  },
  {
   "cell_type": "markdown",
   "metadata": {},
   "source": [
    "`print` is a function; functions use parantheses to operate on things"
   ]
  },
  {
   "cell_type": "code",
   "execution_count": 19,
   "metadata": {},
   "outputs": [
    {
     "name": "stdout",
     "output_type": "stream",
     "text": [
      "Hello world\n"
     ]
    }
   ],
   "source": [
    "print('Hello world')"
   ]
  },
  {
   "cell_type": "markdown",
   "metadata": {},
   "source": [
    "Item Assignment\n",
    "======\n",
    "Values are assigned with `=` spaces on either side are optional. Names are case sensitive and must begin with letters. You can overwrite the built in names, but this is bad practice (i.e. `print = 3` is probabaly a bad idea)"
   ]
  },
  {
   "cell_type": "code",
   "execution_count": 9,
   "metadata": {},
   "outputs": [
    {
     "name": "stdout",
     "output_type": "stream",
     "text": [
      "1\n",
      "2\n",
      "this string needs a long name\n"
     ]
    }
   ],
   "source": [
    "a = 1\n",
    "A = 2\n",
    "a_nice_long_explicit_name = 'this string needs a long name'\n",
    "print(a)\n",
    "print(A)\n",
    "print(a_nice_long_explicit_name)"
   ]
  },
  {
   "cell_type": "markdown",
   "metadata": {},
   "source": [
    "Basic datatypes\n",
    "====\n",
    "Unlike `matlab`, python has many datatypes and you can create your own. Numbers come in two main forms, integers and floats. These can behave differently with arithmetic in python2, but things are straightforward with python3"
   ]
  },
  {
   "cell_type": "code",
   "execution_count": 19,
   "metadata": {},
   "outputs": [
    {
     "name": "stdout",
     "output_type": "stream",
     "text": [
      "1.6666666666666667\n",
      "1.6666666666666667\n",
      "1\n",
      "125\n",
      "7\n"
     ]
    }
   ],
   "source": [
    "print(5 / 3)\n",
    "print(5. / 3.)\n",
    "print(5 // 3)\n",
    "print(5 ** 3)\n",
    "a = 3\n",
    "a += 4\n",
    "print(a)"
   ]
  },
  {
   "cell_type": "code",
   "execution_count": 17,
   "metadata": {},
   "outputs": [
    {
     "name": "stdout",
     "output_type": "stream",
     "text": [
      "You can denote strings with single quotes\n",
      "Or with double quotes\n",
      "Generally just use singles; you can \"escape\" them with a \\ if you need an apostrophe; this's my example\n"
     ]
    }
   ],
   "source": [
    "print('You can denote strings with single quotes')\n",
    "print(\"Or with double quotes\")\n",
    "print('Generally just use singles; you can \"escape\" them with a \\\\ if you need an apostrophe; this\\'s my example')"
   ]
  },
  {
   "cell_type": "markdown",
   "metadata": {},
   "source": [
    "strings have functions, or methods, which allow operations on them. You can access substings using the indices of the letters (zero based)."
   ]
  },
  {
   "cell_type": "code",
   "execution_count": 5,
   "metadata": {},
   "outputs": [
    {
     "name": "stdout",
     "output_type": "stream",
     "text": [
      "A st\n",
      " string\n",
      "2\n"
     ]
    },
    {
     "ename": "ValueError",
     "evalue": "substring not found",
     "output_type": "error",
     "traceback": [
      "\u001b[0;31m---------------------------------------------------------------------------\u001b[0m",
      "\u001b[0;31mValueError\u001b[0m                                Traceback (most recent call last)",
      "\u001b[0;32m<ipython-input-5-18cf392ab608>\u001b[0m in \u001b[0;36m<module>\u001b[0;34m()\u001b[0m\n\u001b[1;32m      2\u001b[0m \u001b[0mprint\u001b[0m\u001b[0;34m(\u001b[0m\u001b[0;34m'A string'\u001b[0m\u001b[0;34m[\u001b[0m\u001b[0;36m1\u001b[0m\u001b[0;34m:\u001b[0m\u001b[0;34m]\u001b[0m\u001b[0;34m)\u001b[0m\u001b[0;34m\u001b[0m\u001b[0m\n\u001b[1;32m      3\u001b[0m \u001b[0mprint\u001b[0m\u001b[0;34m(\u001b[0m\u001b[0;34m'A string'\u001b[0m\u001b[0;34m.\u001b[0m\u001b[0mindex\u001b[0m\u001b[0;34m(\u001b[0m\u001b[0;34m's'\u001b[0m\u001b[0;34m)\u001b[0m\u001b[0;34m)\u001b[0m\u001b[0;34m\u001b[0m\u001b[0m\n\u001b[0;32m----> 4\u001b[0;31m \u001b[0mprint\u001b[0m\u001b[0;34m(\u001b[0m\u001b[0;34m'A string'\u001b[0m\u001b[0;34m[\u001b[0m\u001b[0;36m1\u001b[0m\u001b[0;34m:\u001b[0m\u001b[0;34m]\u001b[0m\u001b[0;34m.\u001b[0m\u001b[0mindex\u001b[0m\u001b[0;34m(\u001b[0m\u001b[0;34m'A'\u001b[0m\u001b[0;34m)\u001b[0m\u001b[0;34m)\u001b[0m\u001b[0;34m\u001b[0m\u001b[0m\n\u001b[0m",
      "\u001b[0;31mValueError\u001b[0m: substring not found"
     ]
    }
   ],
   "source": [
    "mystring = 'A string'\n",
    "print(mystring[0:4])\n",
    "print(mystring[1:])\n",
    "print(mystring.index('s'))\n",
    "print(mystring[1:].index('A'))"
   ]
  },
  {
   "cell_type": "markdown",
   "metadata": {},
   "source": [
    "Lists and tuples\n",
    "-----\n",
    "\n",
    "Lists are ordered sets of objects. They can be objects of any type, and elements can be accessed and reassigned with square brackets. They can be created with a comma separated list in square brackets. Tuples are like lists but they are immutable; you cannot reassign a value."
   ]
  },
  {
   "cell_type": "code",
   "execution_count": 22,
   "metadata": {},
   "outputs": [
    {
     "name": "stdout",
     "output_type": "stream",
     "text": [
      "['A', 1, 7.8, ['this', 'is', 'a', 'sublist']]\n",
      "['this', 'is', 'a', 'sublist']\n",
      "1\n",
      "['A', 1, 7.8, ['this', 'is', 'a', 'sublist'], 800]\n",
      "['A', 1, 2, ['this', 'is', 'a', 'sublist'], 800]\n"
     ]
    }
   ],
   "source": [
    "mixed_type_list = ['A', 1, 7.8, ['this', 'is', 'a', 'sublist']]\n",
    "print(mixed_type_list)\n",
    "print(mixed_type_list[-1])\n",
    "print(mixed_type_list.index(1))\n",
    "mixed_type_list.append(800)\n",
    "print(mixed_type_list)\n",
    "mixed_type_list[2] = 2\n",
    "print(mixed_type_list)"
   ]
  },
  {
   "cell_type": "code",
   "execution_count": 21,
   "metadata": {},
   "outputs": [
    {
     "name": "stdout",
     "output_type": "stream",
     "text": [
      "(7, 'a', 9)\n"
     ]
    },
    {
     "ename": "TypeError",
     "evalue": "'tuple' object does not support item assignment",
     "output_type": "error",
     "traceback": [
      "\u001b[0;31m---------------------------------------------------------------------------\u001b[0m",
      "\u001b[0;31mTypeError\u001b[0m                                 Traceback (most recent call last)",
      "\u001b[0;32m<ipython-input-21-f941a8ad93ad>\u001b[0m in \u001b[0;36m<module>\u001b[0;34m()\u001b[0m\n\u001b[1;32m      2\u001b[0m \u001b[0mprint\u001b[0m\u001b[0;34m(\u001b[0m\u001b[0mmy_tuple\u001b[0m\u001b[0;34m)\u001b[0m\u001b[0;34m\u001b[0m\u001b[0m\n\u001b[1;32m      3\u001b[0m \u001b[0;31m# This won't work\u001b[0m\u001b[0;34m\u001b[0m\u001b[0;34m\u001b[0m\u001b[0m\n\u001b[0;32m----> 4\u001b[0;31m \u001b[0mmy_tuple\u001b[0m\u001b[0;34m[\u001b[0m\u001b[0;36m1\u001b[0m\u001b[0;34m]\u001b[0m \u001b[0;34m=\u001b[0m \u001b[0;36m8\u001b[0m\u001b[0;34m\u001b[0m\u001b[0m\n\u001b[0m",
      "\u001b[0;31mTypeError\u001b[0m: 'tuple' object does not support item assignment"
     ]
    }
   ],
   "source": [
    "my_tuple = (7, 'a', 9)\n",
    "print(my_tuple)\n",
    "# This won't work\n",
    "my_tuple[1] = 8"
   ]
  },
  {
   "cell_type": "markdown",
   "metadata": {},
   "source": [
    "Dictionaries\n",
    "----\n",
    "Dictionaries are essentially lists with non-integer indices. The indices must be hashable; i.e. types that can be reassigned, like numbers or strings. They can be created with curly brackets. Dictionaries are unordered."
   ]
  },
  {
   "cell_type": "code",
   "execution_count": 16,
   "metadata": {},
   "outputs": [
    {
     "name": "stdout",
     "output_type": "stream",
     "text": [
      "value with index 7\n",
      "4\n",
      "{'additional index': 'pi', 'my index': 4, 7: 'value with index 7'}\n",
      "dict_keys(['additional index', 'my index', 7])\n",
      "dict_values(['pi', 4, 'value with index 7'])\n"
     ]
    }
   ],
   "source": [
    "my_dictionary = {7: 'value with index 7', 'my index': 4}\n",
    "print(my_dictionary[7])\n",
    "print(my_dictionary['my index'])\n",
    "my_dictionary['additional index'] = 'pi'\n",
    "print(my_dictionary)\n",
    "print(my_dictionary.keys())\n",
    "print(my_dictionary.values())"
   ]
  },
  {
   "cell_type": "code",
   "execution_count": 23,
   "metadata": {},
   "outputs": [
    {
     "ename": "TypeError",
     "evalue": "unhashable type: 'list'",
     "output_type": "error",
     "traceback": [
      "\u001b[0;31m---------------------------------------------------------------------------\u001b[0m",
      "\u001b[0;31mTypeError\u001b[0m                                 Traceback (most recent call last)",
      "\u001b[0;32m<ipython-input-23-a8fcdd3364f3>\u001b[0m in \u001b[0;36m<module>\u001b[0;34m()\u001b[0m\n\u001b[0;32m----> 1\u001b[0;31m \u001b[0mmy_dictionary\u001b[0m\u001b[0;34m[\u001b[0m\u001b[0;34m[\u001b[0m\u001b[0;34m'additional index'\u001b[0m\u001b[0;34m,\u001b[0m \u001b[0;36m0\u001b[0m\u001b[0;34m]\u001b[0m\u001b[0;34m]\u001b[0m \u001b[0;34m=\u001b[0m \u001b[0;34m'pi'\u001b[0m\u001b[0;34m\u001b[0m\u001b[0m\n\u001b[0m\u001b[1;32m      2\u001b[0m \u001b[0mmy_dictionary\u001b[0m\u001b[0;34m[\u001b[0m\u001b[0;34m(\u001b[0m\u001b[0;34m'additional index'\u001b[0m\u001b[0;34m,\u001b[0m \u001b[0;36m1\u001b[0m\u001b[0;34m)\u001b[0m\u001b[0;34m]\u001b[0m \u001b[0;34m=\u001b[0m \u001b[0;34m'pi'\u001b[0m\u001b[0;34m\u001b[0m\u001b[0m\n",
      "\u001b[0;31mTypeError\u001b[0m: unhashable type: 'list'"
     ]
    }
   ],
   "source": [
    "# Cannot do this though\n",
    "my_dictionary[['additional index', 0]] = 'pi'"
   ]
  },
  {
   "cell_type": "markdown",
   "metadata": {},
   "source": [
    "Booleans and None\n",
    "------\n",
    "`True` and `False` are what you expect. `None` is a convenient value for deleting variables, or as a placeholder for no data."
   ]
  },
  {
   "cell_type": "markdown",
   "metadata": {},
   "source": [
    "Basic Syntax\n",
    "=====\n",
    "Python has all the normal loops/tests you are used to\n",
    "Codeblocks are denoted by indentation. Using 4 spaces is good practice.\n",
    "Conditionals\n",
    "-----\n",
    "\n",
    "if, elif, and else followed by : are the keywords. No end is necessary as the indentation gives this."
   ]
  },
  {
   "cell_type": "code",
   "execution_count": 17,
   "metadata": {},
   "outputs": [
    {
     "name": "stdout",
     "output_type": "stream",
     "text": [
      "Yep, it is true\n",
      "A is None!\n"
     ]
    }
   ],
   "source": [
    "if True:\n",
    "    print('Yep, it is true')\n",
    "if False:\n",
    "    print('Nope, this won\\'t print')\n",
    "a = None\n",
    "if a is None:\n",
    "    print('A is None!')\n",
    "else:\n",
    "    print('A is not None')"
   ]
  },
  {
   "cell_type": "markdown",
   "metadata": {},
   "source": [
    "Comparisons use double equals or common >, <= etc."
   ]
  },
  {
   "cell_type": "code",
   "execution_count": 18,
   "metadata": {},
   "outputs": [
    {
     "name": "stdout",
     "output_type": "stream",
     "text": [
      "a is big\n"
     ]
    }
   ],
   "source": [
    "a = 2.5\n",
    "if a == 2:\n",
    "    print(a)\n",
    "elif a > 2:\n",
    "    print('a is big')\n",
    "else:\n",
    "    print('a is small')"
   ]
  },
  {
   "cell_type": "markdown",
   "metadata": {},
   "source": [
    "Loops\n",
    "----\n",
    "\n",
    "For loops go over some \"iterable\". This could be a list, or a function that returns a bunch of values, or a tuple, or even a string."
   ]
  },
  {
   "cell_type": "code",
   "execution_count": 42,
   "metadata": {},
   "outputs": [
    {
     "name": "stdout",
     "output_type": "stream",
     "text": [
      "0\n",
      "1\n",
      "2\n",
      "3\n",
      "4\n",
      "5\n",
      "6\n",
      "7\n",
      "8\n",
      "9\n",
      "my mixed list\n",
      "1\n",
      "apple\n",
      "['a', 'list']\n",
      "\n",
      "here is nested indentation\n",
      "\n",
      "0 is even\n",
      "2 is even\n",
      "4 is even\n",
      "6 is even\n",
      "8 is even\n"
     ]
    }
   ],
   "source": [
    "for i in range(10):\n",
    "    print(i)\n",
    "\n",
    "print('my mixed list')\n",
    "for i in [1, 'apple', ['a', 'list']]:\n",
    "    print(i)\n",
    "  \n",
    "print('\\nhere is nested indentation\\n')\n",
    "for i in range(10):\n",
    "    if i % 2 == 0:\n",
    "        print('{:d} is even'.format(i))"
   ]
  },
  {
   "cell_type": "markdown",
   "metadata": {},
   "source": [
    "We can use `while` loops too, which need a conditional to stop:"
   ]
  },
  {
   "cell_type": "code",
   "execution_count": 43,
   "metadata": {},
   "outputs": [
    {
     "name": "stdout",
     "output_type": "stream",
     "text": [
      "0\n",
      "1\n",
      "2\n",
      "3\n",
      "4\n",
      "5\n",
      "6\n",
      "7\n",
      "8\n",
      "9\n",
      "Now we are done\n",
      "next loop\n",
      "\n",
      "Now we are done\n"
     ]
    }
   ],
   "source": [
    "i = 0\n",
    "while i < 10:\n",
    "    print(i)\n",
    "    i += 1\n",
    "else:\n",
    "    print('Now we are done')\n",
    " \n",
    "print('next loop\\n')\n",
    "i = 0\n",
    "while i < -1:\n",
    "    print(i)\n",
    "    i += 1\n",
    "else:\n",
    "    print('Now we are done')"
   ]
  },
  {
   "cell_type": "markdown",
   "metadata": {},
   "source": [
    "Convenient loop built-ins\n",
    "-------\n",
    "`enumerate` gives you a counter variable. `zip` pairs two or more iterables."
   ]
  },
  {
   "cell_type": "code",
   "execution_count": 44,
   "metadata": {},
   "outputs": [
    {
     "name": "stdout",
     "output_type": "stream",
     "text": [
      "First enumerate\n",
      "\n",
      "Animal 0 is dog\n",
      "Animal 1 is cat\n",
      "Animal 2 is bird\n",
      "\n",
      "Now let's zip!\n",
      "\n",
      "Animal a is dog\n",
      "Animal b is cat\n",
      "Animal c is bird\n"
     ]
    }
   ],
   "source": [
    "my_first_list = ['a', 'b', 'c']\n",
    "my_second_list = ['dog', 'cat', 'bird']\n",
    "print('First enumerate\\n')\n",
    "for i, animal in enumerate(my_second_list):\n",
    "    print('Animal {:d} is {:s}'.format(i, animal))\n",
    "    \n",
    "print('\\nNow let\\'s zip!\\n')\n",
    "\n",
    "for letter, animal in zip(my_first_list, my_second_list):\n",
    "    print('Animal {:s} is {:s}'.format(letter, animal))"
   ]
  },
  {
   "cell_type": "code",
   "execution_count": null,
   "metadata": {
    "collapsed": true
   },
   "outputs": [],
   "source": []
  }
 ],
 "metadata": {
  "kernelspec": {
   "display_name": "Python 3",
   "language": "python",
   "name": "python3"
  },
  "language_info": {
   "codemirror_mode": {
    "name": "ipython",
    "version": 3
   },
   "file_extension": ".py",
   "mimetype": "text/x-python",
   "name": "python",
   "nbconvert_exporter": "python",
   "pygments_lexer": "ipython3",
   "version": "3.6.2"
  }
 },
 "nbformat": 4,
 "nbformat_minor": 1
}
