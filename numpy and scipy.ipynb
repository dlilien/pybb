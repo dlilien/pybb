{
 "cells": [
  {
   "cell_type": "code",
   "execution_count": 1,
   "metadata": {
    "collapsed": true
   },
   "outputs": [],
   "source": [
    "# The import statement lets you use functions in other modules\n",
    "import os\n",
    "# os has operating system interactions like manipulating paths\n",
    "\n",
    "# You can change the name upon import for convenience in typing or to avoid overwriting other names\n",
    "import numpy as np\n",
    "\n",
    "# A dot gives a submodule or object\n",
    "import matplotlib.pyplot as plt\n",
    "\n",
    "# You can also import a submodule, or a portion of a large project\n",
    "from scipy import stats"
   ]
  },
  {
   "cell_type": "code",
   "execution_count": 5,
   "metadata": {
    "collapsed": false
   },
   "outputs": [],
   "source": [
    "a = np.array([1, 2])\n",
    "b = np.array([[1, 2], [1, 2]])"
   ]
  },
  {
   "cell_type": "code",
   "execution_count": 8,
   "metadata": {
    "collapsed": false
   },
   "outputs": [
    {
     "name": "stdout",
     "output_type": "stream",
     "text": [
      "[ 1.  4.]\n",
      "[[ 1.  4.]\n",
      " [ 1.  4.]]\n",
      "[[1 4]\n",
      " [1 4]]\n"
     ]
    }
   ],
   "source": [
    "# The operations on these are not linear algebra, they are element-wise. No .^, .*, etc!\n",
    "print(a ** 2.0)\n",
    "print(b ** 2.0)\n",
    "print(a * b)"
   ]
  },
  {
   "cell_type": "code",
   "execution_count": 16,
   "metadata": {
    "collapsed": false
   },
   "outputs": [
    {
     "name": "stdout",
     "output_type": "stream",
     "text": [
      "[  1.48671951e-06   1.48671951e-06]\n"
     ]
    }
   ],
   "source": [
    "stats"
   ]
  },
  {
   "cell_type": "code",
   "execution_count": null,
   "metadata": {
    "collapsed": true
   },
   "outputs": [],
   "source": []
  }
 ],
 "metadata": {
  "kernelspec": {
   "display_name": "Python 3",
   "language": "python",
   "name": "python3"
  },
  "language_info": {
   "codemirror_mode": {
    "name": "ipython",
    "version": 3
   },
   "file_extension": ".py",
   "mimetype": "text/x-python",
   "name": "python",
   "nbconvert_exporter": "python",
   "pygments_lexer": "ipython3",
   "version": "3.5.2"
  }
 },
 "nbformat": 4,
 "nbformat_minor": 0
}
